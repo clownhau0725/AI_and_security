{
  "nbformat": 4,
  "nbformat_minor": 0,
  "metadata": {
    "colab": {
      "name": "Untitled0.ipynb",
      "version": "0.3.2",
      "provenance": [],
      "include_colab_link": true
    },
    "kernelspec": {
      "name": "python3",
      "display_name": "Python 3"
    }
  },
  "cells": [
    {
      "cell_type": "markdown",
      "metadata": {
        "id": "view-in-github",
        "colab_type": "text"
      },
      "source": [
        "<a href=\"https://colab.research.google.com/github/clownhau0725/AI_and_security/blob/master/py3%20%20%20-1.ipynb\" target=\"_parent\"><img src=\"https://colab.research.google.com/assets/colab-badge.svg\" alt=\"Open In Colab\"/></a>"
      ]
    },
    {
      "metadata": {
        "id": "rIGXm2021qAS",
        "colab_type": "code",
        "colab": {
          "base_uri": "https://localhost:8080/",
          "height": 102
        },
        "outputId": "b460fea6-b8fb-42d6-d176-f125c5d1242f"
      },
      "cell_type": "code",
      "source": [
        "#!/usr/bin/python \n",
        "# -*- coding: UTF-8 -*- \n",
        "\n",
        "def crypt(source, key):\n",
        "    from itertools import cycle\n",
        "    result = ''\n",
        "    temp = cycle(key)\n",
        "    for ch in source:\n",
        "        result = result + chr(ord(ch) ^ ord(next(temp)))\n",
        "    return result\n",
        "\n",
        "source = 'BreakALLCTF_IknowhowtoXORRRRing'\n",
        "key = 'HappyHackingHigh'\n",
        "\n",
        "print('未加密的明文:'+source)\n",
        "encrypted = crypt(source, key)\n",
        "print('加密過的密文:'+encrypted)\n",
        "decrypted = crypt(encrypted, key)\n",
        "print('解密過的答案:'+decrypted)\n",
        "print('使用的金鑰:'+ key)\n"
      ],
      "execution_count": 1,
      "outputs": [
        {
          "output_type": "stream",
          "text": [
            "未加密的明文:BreakALLCTF_IknowhowtoXORRRRing\n",
            "加密過的密文:\n",
            "\u0013\u0015\u0011\u0012\t-/(=(8\u0001\u0002\t\u0007?\t\u001f\u0007\r'9,9;<5!\u0007\u0000\n",
            "解密過的答案:BreakALLCTF_IknowhowtoXORRRRing\n",
            "使用的金鑰:HappyHackingHigh\n"
          ],
          "name": "stdout"
        }
      ]
    }
  ]
}